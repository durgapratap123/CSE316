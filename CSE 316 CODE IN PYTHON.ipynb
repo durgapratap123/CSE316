{
 "cells": [
  {
   "cell_type": "markdown",
   "id": "9d5b10f7",
   "metadata": {},
   "source": [
    "# CSE 316 code in python"
   ]
  },
  {
   "cell_type": "code",
   "execution_count": 2,
   "id": "1ff9f439",
   "metadata": {},
   "outputs": [
    {
     "name": "stdout",
     "output_type": "stream",
     "text": [
      "First-Fit:\n",
      "(0.10420000000000001, 39.22)\n",
      "Best-Fit:\n",
      "(0.10859999999999999, 38.77)\n",
      "Worst-Fit:\n",
      "(0.10549999999999997, 39.12)\n"
     ]
    }
   ],
   "source": [
    "import random\n",
    "\n",
    "MEMORY_SIZE = 1000\n",
    "BLOCK_SIZE = 10\n",
    "NUM_BLOCKS = MEMORY_SIZE // BLOCK_SIZE\n",
    "NUM_PROCESSES = 50\n",
    "SIMULATION_TIME = 100\n",
    "\n",
    "class MemoryBlock:\n",
    "    def __init__(self, start_index):\n",
    "        self.start_index = start_index\n",
    "        self.end_index = start_index + BLOCK_SIZE\n",
    "        self.process_id = None\n",
    "    \n",
    "    def is_free(self):\n",
    "        return self.process_id is None\n",
    "\n",
    "class MemoryManager:\n",
    "    def __init__(self, allocation_algorithm):\n",
    "        self.blocks = [MemoryBlock(i * BLOCK_SIZE) for i in range(NUM_BLOCKS)]\n",
    "        self.free_list = [b for b in self.blocks if b.is_free()]\n",
    "        self.allocation_algorithm = allocation_algorithm\n",
    "    \n",
    "    def allocate(self, process_id):\n",
    "        block = self.allocation_algorithm(self.free_list)\n",
    "        if block is None:\n",
    "            return None\n",
    "        block.process_id = process_id\n",
    "        self.free_list.remove(block)\n",
    "        return block\n",
    "    \n",
    "    def deallocate(self, block):\n",
    "        block.process_id = None\n",
    "        self.free_list.append(block)\n",
    "        self.free_list.sort(key=lambda b: b.start_index)\n",
    "    \n",
    "def first_fit(free_list):\n",
    "    for block in free_list:\n",
    "        if block.end_index - block.start_index >= BLOCK_SIZE:\n",
    "            return block\n",
    "    return None\n",
    "\n",
    "def best_fit(free_list):\n",
    "    best_block = None\n",
    "    for block in free_list:\n",
    "        if block.end_index - block.start_index >= BLOCK_SIZE:\n",
    "            if best_block is None or block.end_index - block.start_index < best_block.end_index - best_block.start_index:\n",
    "                best_block = block\n",
    "    return best_block\n",
    "\n",
    "def worst_fit(free_list):\n",
    "    worst_block = None\n",
    "    for block in free_list:\n",
    "        if block.end_index - block.start_index >= BLOCK_SIZE:\n",
    "            if worst_block is None or block.end_index - block.start_index > worst_block.end_index - worst_block.start_index:\n",
    "                worst_block = block\n",
    "    return worst_block\n",
    "\n",
    "def simulate_memory_management(allocation_algorithm):\n",
    "    memory_manager = MemoryManager(allocation_algorithm)\n",
    "    \n",
    "    fragmentation = 0\n",
    "    num_wasted_blocks = 0\n",
    "\n",
    "    for time_unit in range(SIMULATION_TIME):\n",
    "        for i in range(NUM_PROCESSES):\n",
    "            block = memory_manager.allocate(i)\n",
    "            if block is None:\n",
    "                num_wasted_blocks += 1\n",
    "        for block in memory_manager.blocks:\n",
    "            if block.process_id is not None and random.random() < 0.1:\n",
    "                memory_manager.deallocate(block)\n",
    "    \n",
    "        num_free_blocks = len(memory_manager.free_list)\n",
    "        fragmentation += num_free_blocks / NUM_BLOCKS\n",
    "    avg_fragmentation = fragmentation / SIMULATION_TIME\n",
    "    avg_wasted_blocks = num_wasted_blocks / SIMULATION_TIME\n",
    "    \n",
    "    return (avg_fragmentation, avg_wasted_blocks)\n",
    "\n",
    "print(\"First-Fit:\")\n",
    "print(simulate_memory_management(first_fit))\n",
    "print(\"Best-Fit:\")\n",
    "print(simulate_memory_management(best_fit))\n",
    "print(\"Worst-Fit:\")\n",
    "print(simulate_memory_management(worst_fit))"
   ]
  },
  {
   "cell_type": "code",
   "execution_count": null,
   "id": "0c683b3d",
   "metadata": {},
   "outputs": [],
   "source": []
  }
 ],
 "metadata": {
  "kernelspec": {
   "display_name": "Python 3 (ipykernel)",
   "language": "python",
   "name": "python3"
  },
  "language_info": {
   "codemirror_mode": {
    "name": "ipython",
    "version": 3
   },
   "file_extension": ".py",
   "mimetype": "text/x-python",
   "name": "python",
   "nbconvert_exporter": "python",
   "pygments_lexer": "ipython3",
   "version": "3.7.1"
  }
 },
 "nbformat": 4,
 "nbformat_minor": 5
}
